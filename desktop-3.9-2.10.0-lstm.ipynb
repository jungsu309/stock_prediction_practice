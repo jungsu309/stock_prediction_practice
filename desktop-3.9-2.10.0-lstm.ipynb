{
 "cells": [
  {
   "cell_type": "code",
   "execution_count": 1,
   "id": "b11b4aaf",
   "metadata": {},
   "outputs": [],
   "source": [
    "import pandas as pd\n",
    "import numpy as np\n",
    "#데스크톱 경로\n",
    "stock_file = pd.read_csv(\"C:/Users/jungsu/Documents/GitHub/stock_prediction_practice/01-삼성전자-주가.csv\")\n",
    "stock_file['일자'] = pd.to_datetime(stock_file['일자'], format='%Y%m%d')\n"
   ]
  },
  {
   "cell_type": "code",
   "execution_count": 2,
   "id": "c7b3a41f",
   "metadata": {},
   "outputs": [
    {
     "name": "stdout",
     "output_type": "stream",
     "text": [
      "2.10.0\n"
     ]
    }
   ],
   "source": [
    "#설치되었나 확인\n",
    "\n",
    "import tensorflow as tf\n",
    "print(tf.__version__)\n",
    "\n",
    "import tensorflow.compat.v1 as tf"
   ]
  },
  {
   "cell_type": "code",
   "execution_count": 3,
   "id": "0feff840",
   "metadata": {},
   "outputs": [],
   "source": [
    "from sklearn.preprocessing import MinMaxScaler\n",
    "\n",
    "scaler = MinMaxScaler()\n",
    "scale_cols = ['시가', '고가', '저가', '종가', '거래량']\n",
    "stock_scaled = scaler.fit_transform(stock_file[scale_cols])\n",
    "stock_scaled = pd.DataFrame(stock_scaled)\n",
    "\n",
    "stock_scaled.columns = ['Open','High','Low','Close','trading value']\n",
    "stock_scaled.insert(0,'Date', stock_file['일자'])"
   ]
  },
  {
   "cell_type": "code",
   "execution_count": 4,
   "id": "f489daa3",
   "metadata": {},
   "outputs": [
    {
     "data": {
      "text/html": [
       "<div>\n",
       "<style scoped>\n",
       "    .dataframe tbody tr th:only-of-type {\n",
       "        vertical-align: middle;\n",
       "    }\n",
       "\n",
       "    .dataframe tbody tr th {\n",
       "        vertical-align: top;\n",
       "    }\n",
       "\n",
       "    .dataframe thead th {\n",
       "        text-align: right;\n",
       "    }\n",
       "</style>\n",
       "<table border=\"1\" class=\"dataframe\">\n",
       "  <thead>\n",
       "    <tr style=\"text-align: right;\">\n",
       "      <th></th>\n",
       "      <th>Date</th>\n",
       "      <th>Open</th>\n",
       "      <th>High</th>\n",
       "      <th>Low</th>\n",
       "      <th>Close</th>\n",
       "      <th>trading value</th>\n",
       "    </tr>\n",
       "  </thead>\n",
       "  <tbody>\n",
       "    <tr>\n",
       "      <th>0</th>\n",
       "      <td>2020-01-07</td>\n",
       "      <td>0.968632</td>\n",
       "      <td>0.980489</td>\n",
       "      <td>0.979522</td>\n",
       "      <td>0.975133</td>\n",
       "      <td>0.030291</td>\n",
       "    </tr>\n",
       "    <tr>\n",
       "      <th>1</th>\n",
       "      <td>2020-01-06</td>\n",
       "      <td>0.954691</td>\n",
       "      <td>0.966553</td>\n",
       "      <td>0.961868</td>\n",
       "      <td>0.969880</td>\n",
       "      <td>0.031470</td>\n",
       "    </tr>\n",
       "    <tr>\n",
       "      <th>2</th>\n",
       "      <td>2020-01-03</td>\n",
       "      <td>0.973860</td>\n",
       "      <td>0.983973</td>\n",
       "      <td>0.967164</td>\n",
       "      <td>0.969880</td>\n",
       "      <td>0.047217</td>\n",
       "    </tr>\n",
       "    <tr>\n",
       "      <th>3</th>\n",
       "      <td>2020-01-02</td>\n",
       "      <td>0.965147</td>\n",
       "      <td>0.973521</td>\n",
       "      <td>0.968929</td>\n",
       "      <td>0.964626</td>\n",
       "      <td>0.039781</td>\n",
       "    </tr>\n",
       "    <tr>\n",
       "      <th>4</th>\n",
       "      <td>2019-12-30</td>\n",
       "      <td>0.977346</td>\n",
       "      <td>0.983973</td>\n",
       "      <td>0.981287</td>\n",
       "      <td>0.975133</td>\n",
       "      <td>0.025585</td>\n",
       "    </tr>\n",
       "    <tr>\n",
       "      <th>5</th>\n",
       "      <td>2019-12-27</td>\n",
       "      <td>0.968632</td>\n",
       "      <td>0.989199</td>\n",
       "      <td>0.977756</td>\n",
       "      <td>0.987391</td>\n",
       "      <td>0.037698</td>\n",
       "    </tr>\n",
       "    <tr>\n",
       "      <th>6</th>\n",
       "      <td>2019-12-26</td>\n",
       "      <td>0.951206</td>\n",
       "      <td>0.963069</td>\n",
       "      <td>0.958337</td>\n",
       "      <td>0.968128</td>\n",
       "      <td>0.029530</td>\n",
       "    </tr>\n",
       "    <tr>\n",
       "      <th>7</th>\n",
       "      <td>2019-12-24</td>\n",
       "      <td>0.966890</td>\n",
       "      <td>0.968295</td>\n",
       "      <td>0.965399</td>\n",
       "      <td>0.961124</td>\n",
       "      <td>0.036337</td>\n",
       "    </tr>\n",
       "    <tr>\n",
       "      <th>8</th>\n",
       "      <td>2019-12-23</td>\n",
       "      <td>0.975603</td>\n",
       "      <td>0.980489</td>\n",
       "      <td>0.970695</td>\n",
       "      <td>0.969880</td>\n",
       "      <td>0.030124</td>\n",
       "    </tr>\n",
       "    <tr>\n",
       "      <th>9</th>\n",
       "      <td>2019-12-20</td>\n",
       "      <td>0.975603</td>\n",
       "      <td>0.982231</td>\n",
       "      <td>0.979522</td>\n",
       "      <td>0.978635</td>\n",
       "      <td>0.037032</td>\n",
       "    </tr>\n",
       "  </tbody>\n",
       "</table>\n",
       "</div>"
      ],
      "text/plain": [
       "        Date      Open      High       Low     Close  trading value\n",
       "0 2020-01-07  0.968632  0.980489  0.979522  0.975133       0.030291\n",
       "1 2020-01-06  0.954691  0.966553  0.961868  0.969880       0.031470\n",
       "2 2020-01-03  0.973860  0.983973  0.967164  0.969880       0.047217\n",
       "3 2020-01-02  0.965147  0.973521  0.968929  0.964626       0.039781\n",
       "4 2019-12-30  0.977346  0.983973  0.981287  0.975133       0.025585\n",
       "5 2019-12-27  0.968632  0.989199  0.977756  0.987391       0.037698\n",
       "6 2019-12-26  0.951206  0.963069  0.958337  0.968128       0.029530\n",
       "7 2019-12-24  0.966890  0.968295  0.965399  0.961124       0.036337\n",
       "8 2019-12-23  0.975603  0.980489  0.970695  0.969880       0.030124\n",
       "9 2019-12-20  0.975603  0.982231  0.979522  0.978635       0.037032"
      ]
     },
     "execution_count": 4,
     "metadata": {},
     "output_type": "execute_result"
    }
   ],
   "source": [
    "stock_scaled.head(10)"
   ]
  },
  {
   "cell_type": "code",
   "execution_count": 5,
   "id": "0ad73de6",
   "metadata": {},
   "outputs": [],
   "source": [
    "#7일 기반으로 내일 데이터를 예측하는 경우\n",
    "TEST_SIZE = 200\n",
    "WINDOW_SIZE = 7\n",
    "\n",
    "#testsize-> 잘 예측 되었는지 확인하기 위해 나눈것\n",
    "train = stock_scaled[:-TEST_SIZE]\n",
    "test = stock_scaled[-TEST_SIZE:]"
   ]
  },
  {
   "cell_type": "code",
   "execution_count": 6,
   "id": "41f73155",
   "metadata": {},
   "outputs": [],
   "source": [
    "def make_dataset(data, label, window_size=20):\n",
    "    feature_list = []\n",
    "    label_list = []\n",
    "    for i in range(len(data) - window_size):\n",
    "        feature_list.append(np.array(data.iloc[i:i+window_size]))\n",
    "        label_list.append(np.array(label.iloc[i+window_size]))\n",
    "    return np.array(feature_list), np.array(label_list)"
   ]
  },
  {
   "cell_type": "code",
   "execution_count": 7,
   "id": "f8754f21",
   "metadata": {},
   "outputs": [
    {
     "data": {
      "text/plain": [
       "((7254, 20, 4), (1814, 20, 4))"
      ]
     },
     "execution_count": 7,
     "metadata": {},
     "output_type": "execute_result"
    }
   ],
   "source": [
    "from sklearn.model_selection import train_test_split\n",
    "\n",
    "feature_cols = ['Open','High','Low','trading value']#예측에 사용할 독립변수\n",
    "label_cols = ['Close']#예측할 종속변수\n",
    "\n",
    "#학습에 사용할 독립변수와 종속변수 설정\n",
    "train_feature = train[feature_cols]\n",
    "train_label = train[label_cols]\n",
    "\n",
    "train_feature, train_label = make_dataset(train_feature, train_label, 20)\n",
    "\n",
    "x_train, x_valid, y_train, y_valid = train_test_split(train_feature, train_label, test_size=0.2)\n",
    "x_train.shape, x_valid.shape"
   ]
  },
  {
   "cell_type": "code",
   "execution_count": 8,
   "id": "8d0f705b",
   "metadata": {},
   "outputs": [
    {
     "data": {
      "text/plain": [
       "((200, 4), (200, 1))"
      ]
     },
     "execution_count": 8,
     "metadata": {},
     "output_type": "execute_result"
    }
   ],
   "source": [
    "#학습된 결과의 정확도를 보기위해\n",
    "test_feature = test[feature_cols]\n",
    "test_label = test[label_cols]\n",
    "\n",
    "test_feature.shape, test_label.shape"
   ]
  },
  {
   "cell_type": "code",
   "execution_count": 9,
   "id": "9518817c",
   "metadata": {},
   "outputs": [
    {
     "data": {
      "text/plain": [
       "((180, 20, 4), (180, 1))"
      ]
     },
     "execution_count": 9,
     "metadata": {},
     "output_type": "execute_result"
    }
   ],
   "source": [
    "test_feature, test_label = make_dataset(test_feature, test_label, 20)\n",
    "test_feature.shape, test_label.shape"
   ]
  },
  {
   "cell_type": "code",
   "execution_count": 10,
   "id": "140df77d",
   "metadata": {},
   "outputs": [
    {
     "name": "stdout",
     "output_type": "stream",
     "text": [
      "2.10.0\n"
     ]
    }
   ],
   "source": [
    "#keras로 모델 만들기\n",
    "\n",
    "import tensorflow as tf\n",
    "print(tf.__version__)\n",
    "\n",
    "\n",
    "\n",
    "from keras.models import Sequential\n",
    "from keras.layers import Dense\n",
    "from keras.callbacks import EarlyStopping, ModelCheckpoint\n",
    "from keras.layers import LSTM\n",
    "\n",
    "model = Sequential()\n",
    "model.add(LSTM(16, \n",
    "               input_shape=(train_feature.shape[1], train_feature.shape[2]), \n",
    "               activation='relu', \n",
    "               return_sequences=False)\n",
    "          )\n",
    "\n",
    "model.add(Dense(1))"
   ]
  },
  {
   "cell_type": "code",
   "execution_count": 11,
   "id": "addc270b",
   "metadata": {},
   "outputs": [
    {
     "name": "stdout",
     "output_type": "stream",
     "text": [
      "Epoch 1/200\n",
      "443/454 [============================>.] - ETA: 0s - loss: 0.0038\n",
      "Epoch 1: val_loss improved from inf to 0.00010, saving model to model\\tmp_checkpoint.h5\n",
      "454/454 [==============================] - 2s 3ms/step - loss: 0.0037 - val_loss: 9.8132e-05\n",
      "Epoch 2/200\n",
      "447/454 [============================>.] - ETA: 0s - loss: 9.4263e-05\n",
      "Epoch 2: val_loss improved from 0.00010 to 0.00009, saving model to model\\tmp_checkpoint.h5\n",
      "454/454 [==============================] - 1s 2ms/step - loss: 9.3974e-05 - val_loss: 8.5339e-05\n",
      "Epoch 3/200\n",
      "447/454 [============================>.] - ETA: 0s - loss: 8.5117e-05\n",
      "Epoch 3: val_loss improved from 0.00009 to 0.00008, saving model to model\\tmp_checkpoint.h5\n",
      "454/454 [==============================] - 1s 2ms/step - loss: 8.5068e-05 - val_loss: 7.7087e-05\n",
      "Epoch 4/200\n",
      "441/454 [============================>.] - ETA: 0s - loss: 8.2485e-05\n",
      "Epoch 4: val_loss improved from 0.00008 to 0.00007, saving model to model\\tmp_checkpoint.h5\n",
      "454/454 [==============================] - 1s 2ms/step - loss: 8.1836e-05 - val_loss: 6.8696e-05\n",
      "Epoch 5/200\n",
      "450/454 [============================>.] - ETA: 0s - loss: 7.0995e-05\n",
      "Epoch 5: val_loss improved from 0.00007 to 0.00006, saving model to model\\tmp_checkpoint.h5\n",
      "454/454 [==============================] - 1s 2ms/step - loss: 7.0737e-05 - val_loss: 5.7394e-05\n",
      "Epoch 6/200\n",
      "441/454 [============================>.] - ETA: 0s - loss: 6.5312e-05\n",
      "Epoch 6: val_loss did not improve from 0.00006\n",
      "454/454 [==============================] - 1s 2ms/step - loss: 6.5860e-05 - val_loss: 7.2404e-05\n",
      "Epoch 7/200\n",
      "438/454 [===========================>..] - ETA: 0s - loss: 6.0972e-05\n",
      "Epoch 7: val_loss improved from 0.00006 to 0.00004, saving model to model\\tmp_checkpoint.h5\n",
      "454/454 [==============================] - 1s 2ms/step - loss: 6.0433e-05 - val_loss: 4.4073e-05\n",
      "Epoch 8/200\n",
      "444/454 [============================>.] - ETA: 0s - loss: 5.4617e-05\n",
      "Epoch 8: val_loss did not improve from 0.00004\n",
      "454/454 [==============================] - 1s 2ms/step - loss: 5.4741e-05 - val_loss: 7.6849e-05\n",
      "Epoch 9/200\n",
      "441/454 [============================>.] - ETA: 0s - loss: 4.8162e-05\n",
      "Epoch 9: val_loss improved from 0.00004 to 0.00003, saving model to model\\tmp_checkpoint.h5\n",
      "454/454 [==============================] - 1s 2ms/step - loss: 4.7760e-05 - val_loss: 3.4966e-05\n",
      "Epoch 10/200\n",
      "445/454 [============================>.] - ETA: 0s - loss: 4.2943e-05\n",
      "Epoch 10: val_loss did not improve from 0.00003\n",
      "454/454 [==============================] - 1s 2ms/step - loss: 4.3101e-05 - val_loss: 4.6129e-05\n",
      "Epoch 11/200\n",
      "443/454 [============================>.] - ETA: 0s - loss: 3.8995e-05\n",
      "Epoch 11: val_loss did not improve from 0.00003\n",
      "454/454 [==============================] - 1s 2ms/step - loss: 3.8973e-05 - val_loss: 3.7878e-05\n",
      "Epoch 12/200\n",
      "446/454 [============================>.] - ETA: 0s - loss: 3.5290e-05\n",
      "Epoch 12: val_loss improved from 0.00003 to 0.00003, saving model to model\\tmp_checkpoint.h5\n",
      "454/454 [==============================] - 1s 2ms/step - loss: 3.5326e-05 - val_loss: 2.6278e-05\n",
      "Epoch 13/200\n",
      "439/454 [============================>.] - ETA: 0s - loss: 3.1930e-05\n",
      "Epoch 13: val_loss did not improve from 0.00003\n",
      "454/454 [==============================] - 1s 2ms/step - loss: 3.1951e-05 - val_loss: 2.7808e-05\n",
      "Epoch 14/200\n",
      "442/454 [============================>.] - ETA: 0s - loss: 3.2248e-05\n",
      "Epoch 14: val_loss improved from 0.00003 to 0.00002, saving model to model\\tmp_checkpoint.h5\n",
      "454/454 [==============================] - 1s 2ms/step - loss: 3.2427e-05 - val_loss: 2.4979e-05\n",
      "Epoch 15/200\n",
      "448/454 [============================>.] - ETA: 0s - loss: 3.1570e-05\n",
      "Epoch 15: val_loss did not improve from 0.00002\n",
      "454/454 [==============================] - 1s 2ms/step - loss: 3.1437e-05 - val_loss: 2.5938e-05\n",
      "Epoch 16/200\n",
      "446/454 [============================>.] - ETA: 0s - loss: 2.8361e-05\n",
      "Epoch 16: val_loss improved from 0.00002 to 0.00002, saving model to model\\tmp_checkpoint.h5\n",
      "454/454 [==============================] - 1s 2ms/step - loss: 2.8169e-05 - val_loss: 2.2228e-05\n",
      "Epoch 17/200\n",
      "442/454 [============================>.] - ETA: 0s - loss: 2.4254e-05\n",
      "Epoch 17: val_loss improved from 0.00002 to 0.00002, saving model to model\\tmp_checkpoint.h5\n",
      "454/454 [==============================] - 1s 2ms/step - loss: 2.4157e-05 - val_loss: 1.8517e-05\n",
      "Epoch 18/200\n",
      "445/454 [============================>.] - ETA: 0s - loss: 2.4204e-05\n",
      "Epoch 18: val_loss did not improve from 0.00002\n",
      "454/454 [==============================] - 1s 2ms/step - loss: 2.4121e-05 - val_loss: 1.9427e-05\n",
      "Epoch 19/200\n",
      "454/454 [==============================] - ETA: 0s - loss: 2.4189e-05\n",
      "Epoch 19: val_loss did not improve from 0.00002\n",
      "454/454 [==============================] - 1s 2ms/step - loss: 2.4189e-05 - val_loss: 2.9853e-05\n",
      "Epoch 20/200\n",
      "441/454 [============================>.] - ETA: 0s - loss: 2.2786e-05\n",
      "Epoch 20: val_loss improved from 0.00002 to 0.00002, saving model to model\\tmp_checkpoint.h5\n",
      "454/454 [==============================] - 1s 2ms/step - loss: 2.2717e-05 - val_loss: 1.7515e-05\n",
      "Epoch 21/200\n",
      "442/454 [============================>.] - ETA: 0s - loss: 2.1614e-05\n",
      "Epoch 21: val_loss did not improve from 0.00002\n",
      "454/454 [==============================] - 1s 2ms/step - loss: 2.1946e-05 - val_loss: 3.0121e-05\n",
      "Epoch 22/200\n",
      "452/454 [============================>.] - ETA: 0s - loss: 2.0640e-05\n",
      "Epoch 22: val_loss did not improve from 0.00002\n",
      "454/454 [==============================] - 1s 2ms/step - loss: 2.0611e-05 - val_loss: 2.5779e-05\n",
      "Epoch 23/200\n",
      "441/454 [============================>.] - ETA: 0s - loss: 2.0273e-05\n",
      "Epoch 23: val_loss did not improve from 0.00002\n",
      "454/454 [==============================] - 1s 2ms/step - loss: 2.0304e-05 - val_loss: 1.8700e-05\n",
      "Epoch 24/200\n",
      "440/454 [============================>.] - ETA: 0s - loss: 1.8300e-05\n",
      "Epoch 24: val_loss improved from 0.00002 to 0.00002, saving model to model\\tmp_checkpoint.h5\n",
      "454/454 [==============================] - 1s 2ms/step - loss: 1.8202e-05 - val_loss: 1.5789e-05\n",
      "Epoch 25/200\n",
      "444/454 [============================>.] - ETA: 0s - loss: 1.7550e-05\n",
      "Epoch 25: val_loss did not improve from 0.00002\n",
      "454/454 [==============================] - 1s 2ms/step - loss: 1.7999e-05 - val_loss: 3.0729e-05\n",
      "Epoch 26/200\n",
      "446/454 [============================>.] - ETA: 0s - loss: 1.8973e-05\n",
      "Epoch 26: val_loss did not improve from 0.00002\n",
      "454/454 [==============================] - 1s 3ms/step - loss: 1.8816e-05 - val_loss: 1.7130e-05\n",
      "Epoch 27/200\n",
      "449/454 [============================>.] - ETA: 0s - loss: 2.0928e-05\n",
      "Epoch 27: val_loss improved from 0.00002 to 0.00001, saving model to model\\tmp_checkpoint.h5\n",
      "454/454 [==============================] - 1s 2ms/step - loss: 2.0911e-05 - val_loss: 1.4727e-05\n",
      "Epoch 28/200\n",
      "439/454 [============================>.] - ETA: 0s - loss: 1.9407e-05\n",
      "Epoch 28: val_loss improved from 0.00001 to 0.00001, saving model to model\\tmp_checkpoint.h5\n",
      "454/454 [==============================] - 1s 2ms/step - loss: 1.9315e-05 - val_loss: 1.4720e-05\n",
      "Epoch 29/200\n",
      "440/454 [============================>.] - ETA: 0s - loss: 1.7331e-05\n",
      "Epoch 29: val_loss improved from 0.00001 to 0.00001, saving model to model\\tmp_checkpoint.h5\n",
      "454/454 [==============================] - 1s 2ms/step - loss: 1.7362e-05 - val_loss: 1.4471e-05\n",
      "Epoch 30/200\n",
      "441/454 [============================>.] - ETA: 0s - loss: 1.8178e-05\n",
      "Epoch 30: val_loss did not improve from 0.00001\n",
      "454/454 [==============================] - 1s 2ms/step - loss: 1.8064e-05 - val_loss: 2.0727e-05\n",
      "Epoch 31/200\n",
      "437/454 [===========================>..] - ETA: 0s - loss: 1.6216e-05\n",
      "Epoch 31: val_loss did not improve from 0.00001\n",
      "454/454 [==============================] - 1s 2ms/step - loss: 1.6055e-05 - val_loss: 1.5147e-05\n",
      "Epoch 32/200\n",
      "434/454 [===========================>..] - ETA: 0s - loss: 1.6887e-05\n",
      "Epoch 32: val_loss improved from 0.00001 to 0.00001, saving model to model\\tmp_checkpoint.h5\n",
      "454/454 [==============================] - 1s 2ms/step - loss: 1.6962e-05 - val_loss: 1.4434e-05\n",
      "Epoch 33/200\n",
      "435/454 [===========================>..] - ETA: 0s - loss: 1.7475e-05\n",
      "Epoch 33: val_loss did not improve from 0.00001\n",
      "454/454 [==============================] - 1s 2ms/step - loss: 1.7696e-05 - val_loss: 2.1502e-05\n",
      "Epoch 34/200\n",
      "435/454 [===========================>..] - ETA: 0s - loss: 1.7356e-05\n",
      "Epoch 34: val_loss did not improve from 0.00001\n",
      "454/454 [==============================] - 1s 2ms/step - loss: 1.7338e-05 - val_loss: 1.5520e-05\n",
      "Epoch 35/200\n",
      "444/454 [============================>.] - ETA: 0s - loss: 1.5673e-05\n",
      "Epoch 35: val_loss did not improve from 0.00001\n",
      "454/454 [==============================] - 1s 2ms/step - loss: 1.5652e-05 - val_loss: 2.3344e-05\n",
      "Epoch 36/200\n",
      "446/454 [============================>.] - ETA: 0s - loss: 1.5734e-05\n",
      "Epoch 36: val_loss did not improve from 0.00001\n",
      "454/454 [==============================] - 1s 2ms/step - loss: 1.5658e-05 - val_loss: 2.8013e-05\n",
      "Epoch 37/200\n",
      "444/454 [============================>.] - ETA: 0s - loss: 1.5349e-05\n",
      "Epoch 37: val_loss did not improve from 0.00001\n",
      "454/454 [==============================] - 1s 2ms/step - loss: 1.5590e-05 - val_loss: 1.5744e-05\n"
     ]
    }
   ],
   "source": [
    "import os\n",
    "\n",
    "model.compile(loss='mean_squared_error', optimizer='adam')\n",
    "early_stop = EarlyStopping(monitor='val_loss', patience=5)\n",
    "\n",
    "model_path = 'model'\n",
    "filename = os.path.join(model_path, 'tmp_checkpoint.h5')\n",
    "checkpoint = ModelCheckpoint(filename, monitor='val_loss', verbose=1, save_best_only=True, mode='auto')\n",
    "\n",
    "history = model.fit(x_train, y_train, \n",
    "                                    epochs=200, \n",
    "                                    batch_size=16,\n",
    "                                    validation_data=(x_valid, y_valid), \n",
    "                                    callbacks=[early_stop, checkpoint])"
   ]
  },
  {
   "cell_type": "code",
   "execution_count": 12,
   "id": "4b776820",
   "metadata": {},
   "outputs": [
    {
     "name": "stdout",
     "output_type": "stream",
     "text": [
      "6/6 [==============================] - 0s 1ms/step\n"
     ]
    },
    {
     "data": {
      "text/plain": [
       "(180, 1)"
      ]
     },
     "execution_count": 12,
     "metadata": {},
     "output_type": "execute_result"
    }
   ],
   "source": [
    "#예측결과 - weight와 예측값 보기\n",
    "model.load_weights(filename)\n",
    "pred = model.predict(test_feature)\n",
    "\n",
    "pred.shape"
   ]
  },
  {
   "cell_type": "code",
   "execution_count": 13,
   "id": "6a93c137",
   "metadata": {},
   "outputs": [
    {
     "data": {
      "image/png": "[encoded data removed]",
      "text/plain": [
       "<Figure size 1200x900 with 1 Axes>"
      ]
     },
     "metadata": {},
     "output_type": "display_data"
    }
   ],
   "source": [
    "import matplotlib.pyplot as plt\n",
    "\n",
    "plt.figure(figsize=(12, 9))\n",
    "plt.plot(test_label, label = 'actual')\n",
    "plt.plot(pred, label = 'prediction')\n",
    "plt.legend()\n",
    "plt.show()\n",
    "#그래프가 왜 이렇게 나올까..?"
   ]
  }
 ],
 "metadata": {
  "kernelspec": {
   "display_name": "py3.9",
   "language": "python",
   "name": "py3.9"
  },
  "language_info": {
   "codemirror_mode": {
    "name": "ipython",
    "version": 3
   },
   "file_extension": ".py",
   "mimetype": "text/x-python",
   "name": "python",
   "nbconvert_exporter": "python",
   "pygments_lexer": "ipython3",
   "version": "3.9.13"
  }
 },
 "nbformat": 4,
 "nbformat_minor": 5
}
