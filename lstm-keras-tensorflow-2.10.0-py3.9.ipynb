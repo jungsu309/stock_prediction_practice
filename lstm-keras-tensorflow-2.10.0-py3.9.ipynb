{
 "cells": [
  {
   "cell_type": "code",
   "execution_count": 1,
   "metadata": {},
   "outputs": [],
   "source": [
    "import pandas as pd\n",
    "import numpy as np\n",
    "\n",
    "stock_file = pd.read_csv(\"01-삼성전자-주가.csv\")\n",
    "stock_file['일자'] = pd.to_datetime(stock_file['일자'], format='%Y%m%d')\n"
   ]
  },
  {
   "cell_type": "code",
   "execution_count": 2,
   "metadata": {},
   "outputs": [],
   "source": [
    "from sklearn.preprocessing import MinMaxScaler\n",
    "\n",
    "scaler = MinMaxScaler()\n",
    "scale_cols = ['시가', '고가', '저가', '종가', '거래량']\n",
    "stock_scaled = scaler.fit_transform(stock_file[scale_cols])\n",
    "stock_scaled = pd.DataFrame(stock_scaled)\n",
    "\n",
    "stock_scaled.columns = ['Open','High','Low','Close','trading value']\n",
    "stock_scaled.insert(0,'Date', stock_file['일자'])"
   ]
  },
  {
   "cell_type": "code",
   "execution_count": 3,
   "metadata": {},
   "outputs": [
    {
     "data": {
      "text/html": [
       "<div>\n",
       "<style scoped>\n",
       "    .dataframe tbody tr th:only-of-type {\n",
       "        vertical-align: middle;\n",
       "    }\n",
       "\n",
       "    .dataframe tbody tr th {\n",
       "        vertical-align: top;\n",
       "    }\n",
       "\n",
       "    .dataframe thead th {\n",
       "        text-align: right;\n",
       "    }\n",
       "</style>\n",
       "<table border=\"1\" class=\"dataframe\">\n",
       "  <thead>\n",
       "    <tr style=\"text-align: right;\">\n",
       "      <th></th>\n",
       "      <th>Date</th>\n",
       "      <th>Open</th>\n",
       "      <th>High</th>\n",
       "      <th>Low</th>\n",
       "      <th>Close</th>\n",
       "      <th>trading value</th>\n",
       "    </tr>\n",
       "  </thead>\n",
       "  <tbody>\n",
       "    <tr>\n",
       "      <th>0</th>\n",
       "      <td>2020-01-07</td>\n",
       "      <td>0.968632</td>\n",
       "      <td>0.980489</td>\n",
       "      <td>0.979522</td>\n",
       "      <td>0.975133</td>\n",
       "      <td>0.030291</td>\n",
       "    </tr>\n",
       "    <tr>\n",
       "      <th>1</th>\n",
       "      <td>2020-01-06</td>\n",
       "      <td>0.954691</td>\n",
       "      <td>0.966553</td>\n",
       "      <td>0.961868</td>\n",
       "      <td>0.969880</td>\n",
       "      <td>0.031470</td>\n",
       "    </tr>\n",
       "    <tr>\n",
       "      <th>2</th>\n",
       "      <td>2020-01-03</td>\n",
       "      <td>0.973860</td>\n",
       "      <td>0.983973</td>\n",
       "      <td>0.967164</td>\n",
       "      <td>0.969880</td>\n",
       "      <td>0.047217</td>\n",
       "    </tr>\n",
       "    <tr>\n",
       "      <th>3</th>\n",
       "      <td>2020-01-02</td>\n",
       "      <td>0.965147</td>\n",
       "      <td>0.973521</td>\n",
       "      <td>0.968929</td>\n",
       "      <td>0.964626</td>\n",
       "      <td>0.039781</td>\n",
       "    </tr>\n",
       "    <tr>\n",
       "      <th>4</th>\n",
       "      <td>2019-12-30</td>\n",
       "      <td>0.977346</td>\n",
       "      <td>0.983973</td>\n",
       "      <td>0.981287</td>\n",
       "      <td>0.975133</td>\n",
       "      <td>0.025585</td>\n",
       "    </tr>\n",
       "    <tr>\n",
       "      <th>5</th>\n",
       "      <td>2019-12-27</td>\n",
       "      <td>0.968632</td>\n",
       "      <td>0.989199</td>\n",
       "      <td>0.977756</td>\n",
       "      <td>0.987391</td>\n",
       "      <td>0.037698</td>\n",
       "    </tr>\n",
       "    <tr>\n",
       "      <th>6</th>\n",
       "      <td>2019-12-26</td>\n",
       "      <td>0.951206</td>\n",
       "      <td>0.963069</td>\n",
       "      <td>0.958337</td>\n",
       "      <td>0.968128</td>\n",
       "      <td>0.029530</td>\n",
       "    </tr>\n",
       "    <tr>\n",
       "      <th>7</th>\n",
       "      <td>2019-12-24</td>\n",
       "      <td>0.966890</td>\n",
       "      <td>0.968295</td>\n",
       "      <td>0.965399</td>\n",
       "      <td>0.961124</td>\n",
       "      <td>0.036337</td>\n",
       "    </tr>\n",
       "    <tr>\n",
       "      <th>8</th>\n",
       "      <td>2019-12-23</td>\n",
       "      <td>0.975603</td>\n",
       "      <td>0.980489</td>\n",
       "      <td>0.970695</td>\n",
       "      <td>0.969880</td>\n",
       "      <td>0.030124</td>\n",
       "    </tr>\n",
       "    <tr>\n",
       "      <th>9</th>\n",
       "      <td>2019-12-20</td>\n",
       "      <td>0.975603</td>\n",
       "      <td>0.982231</td>\n",
       "      <td>0.979522</td>\n",
       "      <td>0.978635</td>\n",
       "      <td>0.037032</td>\n",
       "    </tr>\n",
       "  </tbody>\n",
       "</table>\n",
       "</div>"
      ],
      "text/plain": [
       "        Date      Open      High       Low     Close  trading value\n",
       "0 2020-01-07  0.968632  0.980489  0.979522  0.975133       0.030291\n",
       "1 2020-01-06  0.954691  0.966553  0.961868  0.969880       0.031470\n",
       "2 2020-01-03  0.973860  0.983973  0.967164  0.969880       0.047217\n",
       "3 2020-01-02  0.965147  0.973521  0.968929  0.964626       0.039781\n",
       "4 2019-12-30  0.977346  0.983973  0.981287  0.975133       0.025585\n",
       "5 2019-12-27  0.968632  0.989199  0.977756  0.987391       0.037698\n",
       "6 2019-12-26  0.951206  0.963069  0.958337  0.968128       0.029530\n",
       "7 2019-12-24  0.966890  0.968295  0.965399  0.961124       0.036337\n",
       "8 2019-12-23  0.975603  0.980489  0.970695  0.969880       0.030124\n",
       "9 2019-12-20  0.975603  0.982231  0.979522  0.978635       0.037032"
      ]
     },
     "execution_count": 3,
     "metadata": {},
     "output_type": "execute_result"
    }
   ],
   "source": [
    "stock_scaled.head(10)"
   ]
  },
  {
   "cell_type": "code",
   "execution_count": 4,
   "metadata": {},
   "outputs": [],
   "source": [
    "#7일 기반으로 내일 데이터를 예측하는 경우\n",
    "TEST_SIZE = 200\n",
    "WINDOW_SIZE = 7\n",
    "\n",
    "#testsize-> 잘 예측 되었는지 확인하기 위해 나눈것\n",
    "train = stock_scaled[:-TEST_SIZE]\n",
    "test = stock_scaled[-TEST_SIZE:]"
   ]
  },
  {
   "cell_type": "code",
   "execution_count": 5,
   "metadata": {},
   "outputs": [],
   "source": [
    "def make_dataset(data, label, window_size=20):\n",
    "    feature_list = []\n",
    "    label_list = []\n",
    "    for i in range(len(data) - window_size):\n",
    "        feature_list.append(np.array(data.iloc[i:i+window_size]))\n",
    "        label_list.append(np.array(label.iloc[i+window_size]))\n",
    "    return np.array(feature_list), np.array(label_list)"
   ]
  },
  {
   "cell_type": "code",
   "execution_count": 6,
   "metadata": {},
   "outputs": [
    {
     "data": {
      "text/plain": [
       "((7254, 20, 4), (1814, 20, 4))"
      ]
     },
     "execution_count": 6,
     "metadata": {},
     "output_type": "execute_result"
    }
   ],
   "source": [
    "from sklearn.model_selection import train_test_split\n",
    "\n",
    "feature_cols = ['Open','High','Low','trading value']#예측에 사용할 독립변수\n",
    "label_cols = ['Close']#예측할 종속변수\n",
    "\n",
    "#학습에 사용할 독립변수와 종속변수 설정\n",
    "train_feature = train[feature_cols]\n",
    "train_label = train[label_cols]\n",
    "\n",
    "train_feature, train_label = make_dataset(train_feature, train_label, 20)\n",
    "\n",
    "x_train, x_valid, y_train, y_valid = train_test_split(train_feature, train_label, test_size=0.2)\n",
    "x_train.shape, x_valid.shape"
   ]
  },
  {
   "cell_type": "code",
   "execution_count": 7,
   "metadata": {},
   "outputs": [
    {
     "data": {
      "text/plain": [
       "((200, 4), (200, 1))"
      ]
     },
     "execution_count": 7,
     "metadata": {},
     "output_type": "execute_result"
    }
   ],
   "source": [
    "#학습된 결과의 정확도를 보기위해\n",
    "test_feature = test[feature_cols]\n",
    "test_label = test[label_cols]\n",
    "\n",
    "test_feature.shape, test_label.shape"
   ]
  },
  {
   "cell_type": "code",
   "execution_count": 8,
   "metadata": {},
   "outputs": [
    {
     "data": {
      "text/plain": [
       "((180, 20, 4), (180, 1))"
      ]
     },
     "execution_count": 8,
     "metadata": {},
     "output_type": "execute_result"
    }
   ],
   "source": [
    "test_feature, test_label = make_dataset(test_feature, test_label, 20)\n",
    "test_feature.shape, test_label.shape"
   ]
  },
  {
   "cell_type": "code",
   "execution_count": 9,
   "metadata": {},
   "outputs": [],
   "source": [
    "#keras로 모델 만들기\n",
    "\n",
    "from keras.models import Sequential\n",
    "from keras.layers import Dense\n",
    "from keras.callbacks import EarlyStopping, ModelCheckpoint\n",
    "from keras.layers import LSTM\n",
    "\n",
    "model = Sequential()\n",
    "model.add(LSTM(16, \n",
    "               input_shape=(train_feature.shape[1], train_feature.shape[2]), \n",
    "               activation='relu', \n",
    "               return_sequences=False)\n",
    "          )\n",
    "\n",
    "model.add(Dense(1))"
   ]
  },
  {
   "cell_type": "code",
   "execution_count": 10,
   "metadata": {
    "scrolled": false
   },
   "outputs": [
    {
     "name": "stdout",
     "output_type": "stream",
     "text": [
      "Epoch 1/200\n",
      "453/454 [============================>.] - ETA: 0s - loss: 0.0041\n",
      "Epoch 1: val_loss improved from inf to 0.00006, saving model to model\\tmp_checkpoint.h5\n",
      "454/454 [==============================] - 6s 9ms/step - loss: 0.0041 - val_loss: 5.9721e-05\n",
      "Epoch 2/200\n",
      "453/454 [============================>.] - ETA: 0s - loss: 7.0106e-05\n",
      "Epoch 2: val_loss did not improve from 0.00006\n",
      "454/454 [==============================] - 4s 9ms/step - loss: 7.0173e-05 - val_loss: 7.9160e-05\n",
      "Epoch 3/200\n",
      "453/454 [============================>.] - ETA: 0s - loss: 6.1990e-05\n",
      "Epoch 3: val_loss improved from 0.00006 to 0.00005, saving model to model\\tmp_checkpoint.h5\n",
      "454/454 [==============================] - 4s 8ms/step - loss: 6.2166e-05 - val_loss: 4.9570e-05\n",
      "Epoch 4/200\n",
      "454/454 [==============================] - ETA: 0s - loss: 5.8795e-05\n",
      "Epoch 4: val_loss improved from 0.00005 to 0.00004, saving model to model\\tmp_checkpoint.h5\n",
      "454/454 [==============================] - 4s 8ms/step - loss: 5.8795e-05 - val_loss: 4.3976e-05\n",
      "Epoch 5/200\n",
      "450/454 [============================>.] - ETA: 0s - loss: 5.5036e-05\n",
      "Epoch 5: val_loss did not improve from 0.00004\n",
      "454/454 [==============================] - 4s 9ms/step - loss: 5.5140e-05 - val_loss: 5.7053e-05\n",
      "Epoch 6/200\n",
      "449/454 [============================>.] - ETA: 0s - loss: 5.0975e-05\n",
      "Epoch 6: val_loss did not improve from 0.00004\n",
      "454/454 [==============================] - 4s 9ms/step - loss: 5.0922e-05 - val_loss: 7.7230e-05\n",
      "Epoch 7/200\n",
      "454/454 [==============================] - ETA: 0s - loss: 4.8389e-05\n",
      "Epoch 7: val_loss improved from 0.00004 to 0.00004, saving model to model\\tmp_checkpoint.h5\n",
      "454/454 [==============================] - 4s 9ms/step - loss: 4.8389e-05 - val_loss: 3.6646e-05\n",
      "Epoch 8/200\n",
      "453/454 [============================>.] - ETA: 0s - loss: 4.6266e-05\n",
      "Epoch 8: val_loss improved from 0.00004 to 0.00004, saving model to model\\tmp_checkpoint.h5\n",
      "454/454 [==============================] - 4s 9ms/step - loss: 4.6257e-05 - val_loss: 3.6062e-05\n",
      "Epoch 9/200\n",
      "453/454 [============================>.] - ETA: 0s - loss: 4.5829e-05\n",
      "Epoch 9: val_loss improved from 0.00004 to 0.00003, saving model to model\\tmp_checkpoint.h5\n",
      "454/454 [==============================] - 4s 9ms/step - loss: 4.5805e-05 - val_loss: 3.3472e-05\n",
      "Epoch 10/200\n",
      "452/454 [============================>.] - ETA: 0s - loss: 4.1406e-05\n",
      "Epoch 10: val_loss improved from 0.00003 to 0.00003, saving model to model\\tmp_checkpoint.h5\n",
      "454/454 [==============================] - 4s 9ms/step - loss: 4.1328e-05 - val_loss: 2.8886e-05\n",
      "Epoch 11/200\n",
      "452/454 [============================>.] - ETA: 0s - loss: 4.5049e-05\n",
      "Epoch 11: val_loss improved from 0.00003 to 0.00003, saving model to model\\tmp_checkpoint.h5\n",
      "454/454 [==============================] - 4s 8ms/step - loss: 4.4996e-05 - val_loss: 2.8096e-05\n",
      "Epoch 12/200\n",
      "454/454 [==============================] - ETA: 0s - loss: 3.8505e-05\n",
      "Epoch 12: val_loss did not improve from 0.00003\n",
      "454/454 [==============================] - 4s 8ms/step - loss: 3.8505e-05 - val_loss: 3.1726e-05\n",
      "Epoch 13/200\n",
      "454/454 [==============================] - ETA: 0s - loss: 4.3485e-05\n",
      "Epoch 13: val_loss did not improve from 0.00003\n",
      "454/454 [==============================] - 4s 8ms/step - loss: 4.3485e-05 - val_loss: 3.8825e-05\n",
      "Epoch 14/200\n",
      "448/454 [============================>.] - ETA: 0s - loss: 3.6109e-05\n",
      "Epoch 14: val_loss improved from 0.00003 to 0.00002, saving model to model\\tmp_checkpoint.h5\n",
      "454/454 [==============================] - 4s 8ms/step - loss: 3.6155e-05 - val_loss: 2.4006e-05\n",
      "Epoch 15/200\n",
      "451/454 [============================>.] - ETA: 0s - loss: 3.6164e-05\n",
      "Epoch 15: val_loss did not improve from 0.00002\n",
      "454/454 [==============================] - 4s 9ms/step - loss: 3.6065e-05 - val_loss: 4.9269e-05\n",
      "Epoch 16/200\n",
      "451/454 [============================>.] - ETA: 0s - loss: 3.2270e-05\n",
      "Epoch 16: val_loss did not improve from 0.00002\n",
      "454/454 [==============================] - 4s 9ms/step - loss: 3.2181e-05 - val_loss: 2.4281e-05\n",
      "Epoch 17/200\n",
      "450/454 [============================>.] - ETA: 0s - loss: 3.2401e-05\n",
      "Epoch 17: val_loss did not improve from 0.00002\n",
      "454/454 [==============================] - 4s 9ms/step - loss: 3.2361e-05 - val_loss: 2.4152e-05\n",
      "Epoch 18/200\n",
      "454/454 [==============================] - ETA: 0s - loss: 3.1337e-05\n",
      "Epoch 18: val_loss did not improve from 0.00002\n",
      "454/454 [==============================] - 4s 9ms/step - loss: 3.1337e-05 - val_loss: 2.6173e-05\n",
      "Epoch 19/200\n",
      "454/454 [==============================] - ETA: 0s - loss: 2.9240e-05\n",
      "Epoch 19: val_loss improved from 0.00002 to 0.00002, saving model to model\\tmp_checkpoint.h5\n",
      "454/454 [==============================] - 4s 8ms/step - loss: 2.9240e-05 - val_loss: 2.1873e-05\n",
      "Epoch 20/200\n",
      "450/454 [============================>.] - ETA: 0s - loss: 2.7572e-05\n",
      "Epoch 20: val_loss did not improve from 0.00002\n",
      "454/454 [==============================] - 4s 8ms/step - loss: 2.7567e-05 - val_loss: 2.6303e-05\n",
      "Epoch 21/200\n",
      "448/454 [============================>.] - ETA: 0s - loss: 2.7462e-05\n",
      "Epoch 21: val_loss did not improve from 0.00002\n",
      "454/454 [==============================] - 4s 8ms/step - loss: 2.7607e-05 - val_loss: 3.2990e-05\n",
      "Epoch 22/200\n",
      "454/454 [==============================] - ETA: 0s - loss: 3.1013e-05\n",
      "Epoch 22: val_loss improved from 0.00002 to 0.00002, saving model to model\\tmp_checkpoint.h5\n",
      "454/454 [==============================] - 4s 8ms/step - loss: 3.1013e-05 - val_loss: 2.1392e-05\n",
      "Epoch 23/200\n",
      "454/454 [==============================] - ETA: 0s - loss: 2.6094e-05\n",
      "Epoch 23: val_loss improved from 0.00002 to 0.00002, saving model to model\\tmp_checkpoint.h5\n",
      "454/454 [==============================] - 4s 8ms/step - loss: 2.6094e-05 - val_loss: 1.6647e-05\n",
      "Epoch 24/200\n",
      "454/454 [==============================] - ETA: 0s - loss: 2.8106e-05\n",
      "Epoch 24: val_loss did not improve from 0.00002\n",
      "454/454 [==============================] - 4s 8ms/step - loss: 2.8106e-05 - val_loss: 3.0460e-05\n",
      "Epoch 25/200\n",
      "452/454 [============================>.] - ETA: 0s - loss: 2.4204e-05\n",
      "Epoch 25: val_loss did not improve from 0.00002\n",
      "454/454 [==============================] - 4s 8ms/step - loss: 2.4183e-05 - val_loss: 2.0785e-05\n",
      "Epoch 26/200\n",
      "454/454 [==============================] - ETA: 0s - loss: 2.3970e-05\n",
      "Epoch 26: val_loss did not improve from 0.00002\n",
      "454/454 [==============================] - 4s 9ms/step - loss: 2.3970e-05 - val_loss: 3.3268e-05\n",
      "Epoch 27/200\n",
      "453/454 [============================>.] - ETA: 0s - loss: 2.3173e-05\n",
      "Epoch 27: val_loss did not improve from 0.00002\n",
      "454/454 [==============================] - 4s 8ms/step - loss: 2.3163e-05 - val_loss: 1.6784e-05\n",
      "Epoch 28/200\n",
      "454/454 [==============================] - ETA: 0s - loss: 2.4717e-05\n",
      "Epoch 28: val_loss did not improve from 0.00002\n",
      "454/454 [==============================] - 4s 8ms/step - loss: 2.4717e-05 - val_loss: 1.9194e-05\n"
     ]
    }
   ],
   "source": [
    "import os\n",
    "\n",
    "model.compile(loss='mean_squared_error', optimizer='adam')\n",
    "early_stop = EarlyStopping(monitor='val_loss', patience=5)\n",
    "\n",
    "model_path = 'model'\n",
    "filename = os.path.join(model_path, 'tmp_checkpoint.h5')\n",
    "checkpoint = ModelCheckpoint(filename, monitor='val_loss', verbose=1, save_best_only=True, mode='auto')\n",
    "\n",
    "history = model.fit(x_train, y_train, \n",
    "                                    epochs=200, \n",
    "                                    batch_size=16,\n",
    "                                    validation_data=(x_valid, y_valid), \n",
    "                                    callbacks=[early_stop, checkpoint])"
   ]
  },
  {
   "cell_type": "code",
   "execution_count": 11,
   "metadata": {},
   "outputs": [
    {
     "name": "stdout",
     "output_type": "stream",
     "text": [
      "6/6 [==============================] - 0s 5ms/step\n"
     ]
    },
    {
     "data": {
      "text/plain": [
       "(180, 1)"
      ]
     },
     "execution_count": 11,
     "metadata": {},
     "output_type": "execute_result"
    }
   ],
   "source": [
    "#예측결과 - weight와 예측값 보기\n",
    "model.load_weights(filename)\n",
    "pred = model.predict(test_feature)\n",
    "\n",
    "pred.shape"
   ]
  },
  {
   "cell_type": "code",
   "execution_count": 13,
   "metadata": {},
   "outputs": [
    {
     "data": {
      "image/png": "[encoded data removed]",
      "text/plain": [
       "<Figure size 864x648 with 1 Axes>"
      ]
     },
     "metadata": {
      "needs_background": "light"
     },
     "output_type": "display_data"
    }
   ],
   "source": [
    "import matplotlib.pyplot as plt\n",
    "\n",
    "plt.figure(figsize=(12, 9))\n",
    "plt.plot(test_label, label = 'actual')\n",
    "plt.plot(pred, label = 'prediction')\n",
    "plt.legend()\n",
    "plt.show()"
   ]
  },
  {
   "cell_type": "code",
   "execution_count": 14,
   "metadata": {},
   "outputs": [
    {
     "name": "stdout",
     "output_type": "stream",
     "text": [
      "3.9.0 (tags/v3.9.0:9cf6752, Oct  5 2020, 15:34:40) [MSC v.1927 64 bit (AMD64)]\n",
      "2.10.0\n"
     ]
    }
   ],
   "source": [
    "import sys\n",
    "\n",
    "print(sys.version)\n",
    "\n",
    "import tensorflow as tf\n",
    "print(tf.__version__)\n"
   ]
  },
  {
   "cell_type": "code",
   "execution_count": null,
   "metadata": {},
   "outputs": [],
   "source": []
  }
 ],
 "metadata": {
  "kernelspec": {
   "display_name": "py3.9",
   "language": "python",
   "name": "py3.9"
  },
  "language_info": {
   "codemirror_mode": {
    "name": "ipython",
    "version": 3
   },
   "file_extension": ".py",
   "mimetype": "text/x-python",
   "name": "python",
   "nbconvert_exporter": "python",
   "pygments_lexer": "ipython3",
   "version": "3.9.0"
  }
 },
 "nbformat": 4,
 "nbformat_minor": 4
}
